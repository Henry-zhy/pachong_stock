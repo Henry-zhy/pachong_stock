{
 "metadata": {
  "language_info": {
   "codemirror_mode": {
    "name": "ipython",
    "version": 3
   },
   "file_extension": ".py",
   "mimetype": "text/x-python",
   "name": "python",
   "nbconvert_exporter": "python",
   "pygments_lexer": "ipython3",
   "version": "3.7.4-final"
  },
  "orig_nbformat": 2,
  "kernelspec": {
   "name": "python_defaultSpec_1599183472882",
   "display_name": "Python 3.7.4 64-bit ('base': conda)"
  }
 },
 "nbformat": 4,
 "nbformat_minor": 2,
 "cells": [
  {
   "cell_type": "code",
   "execution_count": 11,
   "metadata": {
    "tags": []
   },
   "outputs": [
    {
     "output_type": "stream",
     "name": "stdout",
     "text": "000661-SZE  长春高新\n600148-SHE  长春一东\n600333-SHE  长春燃气\n"
    }
   ],
   "source": [
    "from selenium import webdriver\n",
    "from selenium.webdriver.common.by import By\n",
    "from selenium.webdriver.common.keys  import Keys\n",
    "import time\n",
    "from selenium.webdriver.common.action_chains import ActionChains\n",
    "\n",
    "browser=webdriver.Chrome()\n",
    "try:\n",
    "    browser.get('http://webapi.cninfo.com.cn/#/marketData')\n",
    "    browser.implicitly_wait(6)\n",
    "    input=browser.find_element_by_xpath('//*[@id=\"root\"]/div/div[3]/div/div/div[1]/div/div/div[1]/input')\n",
    "    input.send_keys('长春')\n",
    "    #运用动作链悬停在输入框位置处，使下拉选项显示出来\n",
    "    ActionChains(browser).click_and_hold(input).perform()\n",
    "    # input.send_keys(Keys.ENTER)\n",
    "    # input.click()\n",
    "    # time.sleep(3)\n",
    "    elements=browser.find_element_by_css_selector('#root > div > div:nth-child(3) > div > div > div.box.box-marketData > div > div > div.box-filter.relative.input-group.searchData > div')\n",
    "    # elements = element.find_elements(By.TAG_NAME, 'p')\n",
    "    # time.sleep(2)\n",
    "    # print(elements)\n",
    "    elements=browser.find_elements_by_css_selector('#root > div > div:nth-child(3) > div > div > div.box.box-marketData > div > div > div.box-filter.relative.input-group.searchData > div > p')\n",
    "    \n",
    "\n",
    "    \n",
    "    for e in elements:\n",
    "        print(e.text)\n",
    "    time.sleep(3)\n",
    "except ConnectionError as ce:\n",
    "    print(\"连接异常\")\n",
    "finally:\n",
    "    browser.close()\n"
   ]
  },
  {
   "cell_type": "code",
   "execution_count": 9,
   "metadata": {},
   "outputs": [
    {
     "output_type": "execute_result",
     "data": {
      "text/plain": "''"
     },
     "metadata": {},
     "execution_count": 9
    }
   ],
   "source": [
    "info"
   ]
  },
  {
   "cell_type": "code",
   "execution_count": null,
   "metadata": {},
   "outputs": [],
   "source": []
  }
 ]
}